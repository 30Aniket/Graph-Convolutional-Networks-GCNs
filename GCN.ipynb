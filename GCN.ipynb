{
 "cells": [
  {
   "cell_type": "markdown",
   "metadata": {},
   "source": [
    "# GRAPH CONVOLUTIONAL NETWORKS"
   ]
  },
  {
   "cell_type": "markdown",
   "metadata": {},
   "source": [
    "### INITIALIZING THE GRAPH"
   ]
  },
  {
   "cell_type": "code",
   "execution_count": 87,
   "metadata": {},
   "outputs": [
    {
     "name": "stdout",
     "output_type": "stream",
     "text": [
      "GRAPH INFO:\n",
      " Name: GCN\n",
      "Type: Graph\n",
      "Number of nodes: 6\n",
      "Number of edges: 9\n",
      "Average degree:   3.0000\n",
      "\n",
      "GRAPH NODES:  [(0, {'name': 0}), (1, {'name': 1}), (2, {'name': 2}), (3, {'name': 3}), (4, {'name': 4}), (5, {'name': 5})]\n",
      "\n",
      "GRAPH EDGES:  [(0, 1), (0, 2), (1, 2), (1, 3), (2, 3), (2, 4), (3, 4), (3, 5), (4, 5)]\n"
     ]
    },
    {
     "data": {
      "image/png": "[encoded data removed]",
      "text/plain": [
       "<Figure size 432x288 with 1 Axes>"
      ]
     },
     "metadata": {},
     "output_type": "display_data"
    }
   ],
   "source": [
    "import numpy as np\n",
    "import networkx as nx\n",
    "import matplotlib.pyplot as plt\n",
    "from scipy.linalg import fractional_matrix_power\n",
    "import warnings\n",
    "\n",
    "%matplotlib inline\n",
    "\n",
    "warnings.filterwarnings(\"ignore\", category=UserWarning)\n",
    "\n",
    "# Initializing the Graph\n",
    "G = nx.Graph(name = 'GCN')\n",
    "\n",
    "# Creating nodes\n",
    "for i in range(6):\n",
    "    G.add_node(i, name = i)\n",
    "\n",
    "# Creating edges\n",
    "edges = [(0,1),(1,2),(2,3),(3,4),(4,5),(0,2),(1,3),(2,4),(3,5)]\n",
    "G.add_edges_from(edges)\n",
    "\n",
    "# Graph info\n",
    "print(\"GRAPH INFO:\\n\", nx.info(G))\n",
    "print(\"\\nGRAPH NODES: \", G.nodes.data())\n",
    "print(\"\\nGRAPH EDGES: \", G.edges)\n",
    "\n",
    "# Plotting the graph\n",
    "nx.draw(G, with_labels = True)"
   ]
  },
  {
   "cell_type": "markdown",
   "metadata": {},
   "source": [
    "### GETTING ADJACENCY MATRIX AND NODE FEATURES MATRIX AND CALCULATING THEIR DOT PRODUCT"
   ]
  },
  {
   "cell_type": "code",
   "execution_count": 88,
   "metadata": {},
   "outputs": [
    {
     "name": "stdout",
     "output_type": "stream",
     "text": [
      "Shape of A:  (6, 6)\n",
      "Shape of X:  (6, 1)\n",
      "\n",
      "Adjacency matrix (A):\n",
      " [[0. 1. 1. 0. 0. 0.]\n",
      " [1. 0. 1. 1. 0. 0.]\n",
      " [1. 1. 0. 1. 1. 0.]\n",
      " [0. 1. 1. 0. 1. 1.]\n",
      " [0. 0. 1. 1. 0. 1.]\n",
      " [0. 0. 0. 1. 1. 0.]]\n",
      "\n",
      "Node Features matrix (X):\n",
      " [[0]\n",
      " [1]\n",
      " [2]\n",
      " [3]\n",
      " [4]\n",
      " [5]]\n",
      "\n",
      "Dot product (A.X):\n",
      " [[ 3.]\n",
      " [ 5.]\n",
      " [ 8.]\n",
      " [12.]\n",
      " [10.]\n",
      " [ 7.]]\n"
     ]
    }
   ],
   "source": [
    "# Getting the Adjacency matrix (A) and Node Features matrix (x)\n",
    "A = np.array(nx.attr_matrix(G, node_attr='name')[0])\n",
    "X = np.array(nx.attr_matrix(G, node_attr='name')[1])\n",
    "X = np.expand_dims(X,axis=1)\n",
    "\n",
    "print('Shape of A: ', A.shape)\n",
    "print('Shape of X: ', X.shape)\n",
    "print('\\nAdjacency matrix (A):\\n', A)\n",
    "print('\\nNode Features matrix (X):\\n', X)\n",
    "\n",
    "# Calculating the dot product of A and X\n",
    "AX = np.dot(A,X)\n",
    "print(\"\\nDot product (A.X):\\n\", AX)"
   ]
  },
  {
   "cell_type": "markdown",
   "metadata": {},
   "source": [
    "### NORMALIZING A"
   ]
  },
  {
   "cell_type": "code",
   "execution_count": 89,
   "metadata": {},
   "outputs": [
    {
     "name": "stdout",
     "output_type": "stream",
     "text": [
      "Edges of G with self-loops:\n",
      " [(0, 1), (0, 2), (0, 0), (1, 2), (1, 3), (1, 1), (2, 3), (2, 4), (2, 2), (3, 4), (3, 5), (3, 3), (4, 5), (4, 4), (5, 5)]\n",
      "\n",
      "Adjacency matrix of added self-loops G (A_hat):\n",
      " [[1. 1. 1. 0. 0. 0.]\n",
      " [1. 1. 1. 1. 0. 0.]\n",
      " [1. 1. 1. 1. 1. 0.]\n",
      " [0. 1. 1. 1. 1. 1.]\n",
      " [0. 0. 1. 1. 1. 1.]\n",
      " [0. 0. 0. 1. 1. 1.]]\n",
      "\n",
      " Dot product (A_hat.X):\n",
      " [[ 3.]\n",
      " [ 6.]\n",
      " [10.]\n",
      " [15.]\n",
      " [14.]\n",
      " [12.]]\n",
      "\n",
      "Degree Matrix of added self-loops G (D):  [(0, 4), (1, 5), (2, 6), (3, 6), (4, 5), (5, 4)]\n",
      "\n",
      "Degree Matrix of added self-loops G as numpy array (D):\n",
      " [[4 0 0 0 0 0]\n",
      " [0 5 0 0 0 0]\n",
      " [0 0 6 0 0 0]\n",
      " [0 0 0 6 0 0]\n",
      " [0 0 0 0 5 0]\n",
      " [0 0 0 0 0 4]]\n",
      "\n",
      "Inverse of D:\n",
      " [[0.25       0.         0.         0.         0.         0.        ]\n",
      " [0.         0.2        0.         0.         0.         0.        ]\n",
      " [0.         0.         0.16666667 0.         0.         0.        ]\n",
      " [0.         0.         0.         0.16666667 0.         0.        ]\n",
      " [0.         0.         0.         0.         0.2        0.        ]\n",
      " [0.         0.         0.         0.         0.         0.25      ]]\n",
      "\n",
      "Dot product (D_inv.A_hat.X:\n",
      " [[0.75      ]\n",
      " [1.2       ]\n",
      " [1.66666667]\n",
      " [2.5       ]\n",
      " [2.8       ]\n",
      " [3.        ]]\n",
      "\n",
      "Dot product (D_halfinv.A_hat.D_halfinv.X):\n",
      " [[0.63185509]\n",
      " [1.11287093]\n",
      " [1.74620426]\n",
      " [2.76682499]\n",
      " [2.83090492]\n",
      " [2.75679963]]\n"
     ]
    }
   ],
   "source": [
    "# Adding self-loops\n",
    "G_self_loops = G.copy()\n",
    "\n",
    "self_loops = []\n",
    "for i in range(G.number_of_nodes()):\n",
    "    self_loops.append((i,i))\n",
    "\n",
    "G_self_loops.add_edges_from(self_loops)\n",
    "\n",
    "# Checking the edges of G_self_loops after adding the self loops\n",
    "print('Edges of G with self-loops:\\n', G_self_loops.edges)\n",
    "\n",
    "# Getting the Adjacency matrix (A) and Node Features matrix (X) of added self-lopps graph\n",
    "A_hat = np.array(nx.attr_matrix(G_self_loops, node_attr='name')[0])\n",
    "print('\\nAdjacency matrix of added self-loops G (A_hat):\\n', A_hat)\n",
    "\n",
    "# Calculating the dot product of A_hat and X (AX)\n",
    "AX = np.dot(A_hat, X)\n",
    "print('\\n Dot product (A_hat.X):\\n', AX)\n",
    "\n",
    "# Gettin the Degree matrix (D)\n",
    "Deg_Mat = G_self_loops.degree()\n",
    "print('\\nDegree Matrix of added self-loops G (D): ', Deg_Mat)\n",
    "\n",
    "# Converting D to a N x N matrix\n",
    "D = np.diag([deg for (n,deg) in list(Deg_Mat)])\n",
    "print('\\nDegree Matrix of added self-loops G as numpy array (D):\\n', D)\n",
    "\n",
    "# Finding the inverse of D\n",
    "D_inv = np.linalg.inv(D)\n",
    "print('\\nInverse of D:\\n', D_inv)\n",
    "\n",
    "# Calculating dot product of D_inv and A_hat.X for normalization\n",
    "DAX = np.dot(D_inv,AX)\n",
    "print('\\nDot product (D_inv.A_hat.X:\\n', DAX)\n",
    "\n",
    "# Symmetric Normalization\n",
    "D_halfinv = fractional_matrix_power(D, -0.5)\n",
    "DADX = D_halfinv.dot(A_hat).dot(D_halfinv).dot(X)\n",
    "print('\\nDot product (D_halfinv.A_hat.D_halfinv.X):\\n', DADX)"
   ]
  },
  {
   "cell_type": "markdown",
   "metadata": {},
   "source": [
    "### BUILDING GCN LAYER"
   ]
  },
  {
   "cell_type": "code",
   "execution_count": 90,
   "metadata": {},
   "outputs": [
    {
     "name": "stdout",
     "output_type": "stream",
     "text": [
      "Features Representation from GCN output:\n",
      " [[0.00018473 0.        ]\n",
      " [0.00027634 0.        ]\n",
      " [0.00036873 0.        ]\n",
      " [0.00047873 0.        ]\n",
      " [0.00048303 0.        ]\n",
      " [0.00047428 0.        ]]\n"
     ]
    }
   ],
   "source": [
    "# Initializing the weights\n",
    "np.random.seed(77777)\n",
    "n_h = 4 # number of neurons in the hidden layer\n",
    "n_y = 2 # number of neurons in the output layer\n",
    "W0 = np.random.randn(X.shape[1],n_h) * 0.01\n",
    "W1 = np.random.randn(n_h,n_y) * 0.01\n",
    "\n",
    "# Implementing ReLu as activation function\n",
    "def relu(x):\n",
    "    return np.maximum(0,x)\n",
    "\n",
    "# Building GCN layer\n",
    "def gcn(A,H,W):\n",
    "    I = np.identity(A.shape[0]) # creating Identity matrix of A\n",
    "    A_hat = A + I #add self-loop to A\n",
    "    D = np.diag(np.sum(A_hat, axis=0)) # creating Degree matrix of A\n",
    "    D_halfinv = fractional_matrix_power(D, -0.5) # calculating D to the power of -0.5\n",
    "    eq = D_halfinv.dot(A_hat).dot(D_halfinv).dot(H).dot(W)\n",
    "    return relu(eq)\n",
    "\n",
    "\n",
    "# Doing forward propagation\n",
    "H1 = gcn(A,X,W0)\n",
    "H2 = gcn(A,H1,W1)\n",
    "print('Features Representation from GCN output:\\n', H2)"
   ]
  },
  {
   "cell_type": "markdown",
   "metadata": {},
   "source": [
    "### PLOTTING THE FEATURES REPRESENTATIONS"
   ]
  },
  {
   "cell_type": "code",
   "execution_count": 91,
   "metadata": {},
   "outputs": [
    {
     "data": {
      "image/png": "[encoded data removed]",
      "text/plain": [
       "<Figure size 700x500 with 1 Axes>"
      ]
     },
     "metadata": {
      "needs_background": "light"
     },
     "output_type": "display_data"
    }
   ],
   "source": [
    "def plot_features(H2):\n",
    "    # Plotting the features representation\n",
    "    x = H2[:,0]\n",
    "    y = H2[:,1]\n",
    "\n",
    "    size = 1000\n",
    "\n",
    "    plt.figure(figsize=(7,5),dpi = 100)\n",
    "    plt.scatter(x,y,size)\n",
    "    plt.xlim([np.min(x)*0.9, np.max(x)*1.1])\n",
    "    plt.ylim([-1, 1])\n",
    "    plt.xlabel('Feature Representation Dimension 0')\n",
    "    plt.ylabel('Feature Representation Dimension 1')\n",
    "    plt.title('Feature Representation')\n",
    "\n",
    "    for i,row in enumerate(H2):\n",
    "        str = \"{}\".format(i)\n",
    "        plt.annotate(str, (row[0],row[1]),fontsize=18, fontweight='bold')\n",
    "\n",
    "plot_features(H2)"
   ]
  }
 ],
 "metadata": {
  "kernelspec": {
   "display_name": "Python 3",
   "language": "python",
   "name": "python3"
  },
  "language_info": {
   "codemirror_mode": {
    "name": "ipython",
    "version": 3
   },
   "file_extension": ".py",
   "mimetype": "text/x-python",
   "name": "python",
   "nbconvert_exporter": "python",
   "pygments_lexer": "ipython3",
   "version": "3.7.6"
  }
 },
 "nbformat": 4,
 "nbformat_minor": 4
}
